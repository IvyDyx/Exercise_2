{
 "cells": [
  {
   "cell_type": "markdown",
   "metadata": {},
   "source": [
    "1. Ask user to enter a string and check that it is made up only alphabets:"
   ]
  },
  {
   "cell_type": "code",
   "execution_count": 2,
   "metadata": {},
   "outputs": [
    {
     "name": "stdout",
     "output_type": "stream",
     "text": [
      "Invalid input, please enter a string made of only alphabets.\n",
      "The string contains only alphabets!\n"
     ]
    }
   ],
   "source": [
    "while True:\n",
    "    user_input = input(\"Enter a string: \")\n",
    "    if user_input.isalpha():\n",
    "        print(\"The string contains only alphabets!\")\n",
    "        break\n",
    "    else:\n",
    "        print(\"Invalid input, please enter a string made of only alphabets.\")"
   ]
  },
  {
   "cell_type": "markdown",
   "metadata": {},
   "source": [
    "2. Now, make sure that the string is made up of both alphabets and numbers:\n",
    "\n",
    "TRY using isalnum() function and then entering only alhpabets in the string and see what happens."
   ]
  },
  {
   "cell_type": "code",
   "execution_count": 9,
   "metadata": {},
   "outputs": [
    {
     "name": "stdout",
     "output_type": "stream",
     "text": [
      "Invalid input, please enter a string that contains both alphabets and numbers.\n",
      "Invalid input, please enter a string that contains both alphabets and numbers.\n",
      "The string contains both alphabets and numbers!\n"
     ]
    }
   ],
   "source": [
    "while True:\n",
    "    user_input = input(\"Enter a string: \")\n",
    "    if any(c.isalpha() for c in user_input) and any(c.isdigit() for c in user_input):\n",
    "        print(\"The string contains both alphabets and numbers!\")\n",
    "        break\n",
    "    else:\n",
    "        print(\"Invalid input, please enter a string that contains both alphabets and numbers.\")"
   ]
  },
  {
   "cell_type": "markdown",
   "metadata": {},
   "source": [
    "3. Now, make sure that the string is made up of both alphabets and at least one number:\n"
   ]
  },
  {
   "cell_type": "code",
   "execution_count": 5,
   "metadata": {},
   "outputs": [
    {
     "name": "stdout",
     "output_type": "stream",
     "text": [
      "Invalid input, please enter a string containing both alphabets and at least one number.\n",
      "The string contains both alphabets and at least one number!\n"
     ]
    }
   ],
   "source": [
    "while True:\n",
    "    user_input = input(\"Enter a string: \")\n",
    "    if any(c.isalpha() for c in user_input) and any(c.isdigit() for c in user_input):\n",
    "        print(\"The string contains both alphabets and at least one number!\")\n",
    "        break\n",
    "    else:\n",
    "        print(\"Invalid input, please enter a string containing both alphabets and at least one number.\")\n"
   ]
  },
  {
   "cell_type": "markdown",
   "metadata": {},
   "source": [
    "4. Now, make sure that the string is made up of both alphabets, at least one number, and at least one special character:"
   ]
  },
  {
   "cell_type": "code",
   "execution_count": 6,
   "metadata": {},
   "outputs": [
    {
     "name": "stdout",
     "output_type": "stream",
     "text": [
      "Invalid input, please enter a string containing alphabets, at least one number, and at least one special character.\n",
      "The string contains alphabets, at least one number, and at least one special character!\n"
     ]
    }
   ],
   "source": [
    "import string\n",
    "\n",
    "while True:\n",
    "    user_input = input(\"Enter a string: \")\n",
    "    if (any(c.isalpha() for c in user_input) and \n",
    "        any(c.isdigit() for c in user_input) and \n",
    "        any(c in string.punctuation for c in user_input)):\n",
    "        print(\"The string contains alphabets, at least one number, and at least one special character!\")\n",
    "        break\n",
    "    else:\n",
    "        print(\"Invalid input, please enter a string containing alphabets, at least one number, and at least one special character.\")"
   ]
  },
  {
   "cell_type": "markdown",
   "metadata": {},
   "source": [
    "5. Now, modify the above code so that if the user enters an invalid string, the program should ask the user to enter another string again, and keep asking until a valid string has been entered."
   ]
  },
  {
   "cell_type": "code",
   "execution_count": 7,
   "metadata": {},
   "outputs": [
    {
     "name": "stdout",
     "output_type": "stream",
     "text": [
      "Invalid input, please enter a string containing alphabets, at least one number, and at least one special character.\n",
      "Invalid input, please enter a string containing alphabets, at least one number, and at least one special character.\n",
      "The string is valid!\n"
     ]
    }
   ],
   "source": [
    "import string\n",
    "\n",
    "while True:\n",
    "    user_input = input(\"Enter a string: \")\n",
    "    if (any(c.isalpha() for c in user_input) and \n",
    "        any(c.isdigit() for c in user_input) and \n",
    "        any(c in string.punctuation for c in user_input)):\n",
    "        print(\"The string is valid!\")\n",
    "        break\n",
    "    else:\n",
    "        print(\"Invalid input, please enter a string containing alphabets, at least one number, and at least one special character.\")"
   ]
  }
 ],
 "metadata": {
  "kernelspec": {
   "display_name": "Python 3",
   "language": "python",
   "name": "python3"
  },
  "language_info": {
   "codemirror_mode": {
    "name": "ipython",
    "version": 3
   },
   "file_extension": ".py",
   "mimetype": "text/x-python",
   "name": "python",
   "nbconvert_exporter": "python",
   "pygments_lexer": "ipython3",
   "version": "3.12.5"
  }
 },
 "nbformat": 4,
 "nbformat_minor": 2
}
